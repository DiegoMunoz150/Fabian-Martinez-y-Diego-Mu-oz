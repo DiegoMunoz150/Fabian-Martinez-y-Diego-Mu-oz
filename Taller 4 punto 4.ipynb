{
 "cells": [
  {
   "cell_type": "code",
   "execution_count": 13,
   "metadata": {},
   "outputs": [],
   "source": [
    "import numpy as np\n",
    "import matplotlib.pyplot as plt\n",
    "from mpl_toolkits.mplot3d import Axes3D\n",
    "from matplotlib.animation import FuncAnimation"
   ]
  },
  {
   "cell_type": "code",
   "execution_count": 14,
   "metadata": {},
   "outputs": [],
   "source": [
    "Nx=200\n",
    "Ny=200\n",
    "Nt=100\n",
    "x=np.linspace(0,2,Nx)\n",
    "y=np.linspace(0,1,Ny)\n",
    "t=np.linspace(0,1,Nt)\n",
    "\n",
    "c=0.5\n",
    "\n",
    "dt=t[1]-t[0]\n",
    "dx=x[1]-x[0]\n",
    "dy=y[1]-y[0]\n",
    "\n",
    "W_x=0.02\n",
    "W_y=0.16\n",
    "\n",
    "pared_en_x_negativo=1-0.01\n",
    "indice_x_min = min(range(len(x)), key=lambda i: abs(x[i] - pared_en_x_negativo))\n",
    "pared_en_x_postivo=1+0.01\n",
    "indice_x_max = min(range(len(x)), key=lambda i: abs(x[i] - pared_en_x_postivo))\n",
    "\n",
    "pared_en_y_positivo=1-0.16\n",
    "indice_y_max = min(range(len(y)), key=lambda i: abs(y[i] - pared_en_y_positivo))\n",
    "pared_en_y_negativo=0.16\n",
    "indice_y_min = min(range(len(y)), key=lambda i: abs(y[i] - pared_en_y_negativo))\n",
    "\n",
    "X, Y = np.meshgrid(x, y)\n",
    "U = np.zeros( (Nt,Nx,Ny) ) \n",
    "U[0,:,:]=2*np.exp(-150*(((x-2/5)**2)+((y-1/2)**2)))\n",
    "\n",
    "for i in range(1,Nt-1):\n",
    "  for j in range(1,Nx-1):\n",
    "        for k in range(1,Ny-1):\n",
    "            U[i+1,j,k] = 2*U[i,j,k] + -U[i-1,j,k]  + (dt**2)*(c**2)*((U[i,j+1,k] -2*U[i,j,k] + U[i,j-1,k])/(dx**2)+(U[i,j,k+1] -2*U[i,j,k] + U[i,j,k-1])/(dy**2))\n",
    "            if ((indice_x_min <  j < indice_x_max) and (0 < k < indice_y_min)) or ((indice_x_min <  j < indice_x_max) and (indice_y_max < k < Ny-1)):\n",
    "                U[i,j,k]=0\n",
    "            U[i,0,k]=0\n",
    "            U[i,-1,k]=0\n",
    "            U[i,j,0]=0\n",
    "            U[i,j,-1]=0\n",
    "  \n",
    "\n",
    "\n",
    "\n"
   ]
  }
 ],
 "metadata": {
  "kernelspec": {
   "display_name": "Python 3",
   "language": "python",
   "name": "python3"
  },
  "language_info": {
   "codemirror_mode": {
    "name": "ipython",
    "version": 3
   },
   "file_extension": ".py",
   "mimetype": "text/x-python",
   "name": "python",
   "nbconvert_exporter": "python",
   "pygments_lexer": "ipython3",
   "version": "3.12.5"
  }
 },
 "nbformat": 4,
 "nbformat_minor": 2
}
